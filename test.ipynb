{
 "cells": [
  {
   "cell_type": "code",
   "execution_count": 26,
   "metadata": {},
   "outputs": [],
   "source": [
    "from autoscraper import AutoScraper\n"
   ]
  },
  {
   "cell_type": "code",
   "execution_count": 27,
   "metadata": {},
   "outputs": [],
   "source": [
    "url = \"https://www.farmacenter.com.py/catalogo/tratamientos-dermocosmeticos-c66\"\n"
   ]
  },
  {
   "cell_type": "code",
   "execution_count": 32,
   "metadata": {},
   "outputs": [
    {
     "data": {
      "text/plain": [
       "[]"
      ]
     },
     "execution_count": 32,
     "metadata": {},
     "output_type": "execute_result"
    }
   ],
   "source": [
    "wanted_list = [\"Uriage Hyséac Gel Limpiador Purificante Gel Nettoyant - Pomo de 150 ml\",\"₲. 94.725\"]\n",
    "scraper = AutoScraper()\n",
    "scraper.build(url, wanted_list)\n",
    "scraper.get_result_exact('https://www.farmatotal.com.py/categoria/belleza/')"
   ]
  },
  {
   "cell_type": "code",
   "execution_count": 29,
   "metadata": {},
   "outputs": [
    {
     "name": "stdout",
     "output_type": "stream",
     "text": [
      "{'rule_rnyk': [], 'rule_z8oo': [], 'rule_o042': [], 'rule_vi1y': [], 'rule_l77z': [], 'rule_7f89': []}\n"
     ]
    }
   ],
   "source": [
    "result = scraper.get_result_similar('https://www.farmacenter.com.py/vichy-mineral-89-probiotic-fractions-concentrado-reparador-y-regenerador-frasco-de-30-ml-p13743',grouped=True)\n",
    "print(result)"
   ]
  },
  {
   "cell_type": "code",
   "execution_count": 30,
   "metadata": {},
   "outputs": [],
   "source": [
    "# scraper.keep_rules(['rule_kw1z','rule_yhb5'])\n",
    "# scraper.save('farmacenter-search')\n",
    "# result = scraper.get_result_similar(url,group_by_alias=True)\n",
    "# scraper.set_rule_aliases({'rule_kw1z':'product', 'rule_yhb5':'price'})"
   ]
  }
 ],
 "metadata": {
  "kernelspec": {
   "display_name": ".venv",
   "language": "python",
   "name": "python3"
  },
  "language_info": {
   "codemirror_mode": {
    "name": "ipython",
    "version": 3
   },
   "file_extension": ".py",
   "mimetype": "text/x-python",
   "name": "python",
   "nbconvert_exporter": "python",
   "pygments_lexer": "ipython3",
   "version": "3.10.12"
  },
  "orig_nbformat": 4
 },
 "nbformat": 4,
 "nbformat_minor": 2
}
